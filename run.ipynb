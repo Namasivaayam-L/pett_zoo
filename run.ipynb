{
 "cells": [
  {
   "cell_type": "code",
   "execution_count": null,
   "metadata": {},
   "outputs": [],
   "source": [
    "!git config user.name \"Namasivaayam-L\"\n",
    "!git config user.email \"namasivaayam007vijay@gmail.com\"\n",
    "!git clone \"git@git.github.com/Namasivaayam-L/pett_zoo.git\""
   ]
  }
 ],
 "metadata": {
  "language_info": {
   "name": "python"
  }
 },
 "nbformat": 4,
 "nbformat_minor": 2
}
